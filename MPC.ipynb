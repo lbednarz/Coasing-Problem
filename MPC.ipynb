{
 "cells": [
  {
   "cell_type": "code",
   "execution_count": 10,
   "metadata": {},
   "outputs": [
    {
     "ename": "IndexError",
     "evalue": "list index out of range",
     "output_type": "error",
     "traceback": [
      "\u001b[1;31m---------------------------------------------------------------------------\u001b[0m",
      "\u001b[1;31mIndexError\u001b[0m                                Traceback (most recent call last)",
      "Cell \u001b[1;32mIn[10], line 64\u001b[0m\n\u001b[0;32m     61\u001b[0m \u001b[39mfor\u001b[39;00m j \u001b[39min\u001b[39;00m \u001b[39mrange\u001b[39m(i\u001b[39m+\u001b[39m\u001b[39m1\u001b[39m): \n\u001b[0;32m     62\u001b[0m     \u001b[39m# for j = 0, calling As_list[2:2] = A3\u001b[39;00m\n\u001b[0;32m     63\u001b[0m     matrices_to_multiply \u001b[39m=\u001b[39m As_list[i\u001b[39m-\u001b[39mj:i]\n\u001b[1;32m---> 64\u001b[0m     prod \u001b[39m=\u001b[39m multiply_matrices_in_reverse(matrices_to_multiply, \u001b[39m0\u001b[39;49m, \u001b[39mlen\u001b[39;49m(matrices_to_multiply))\n\u001b[0;32m     65\u001b[0m     \u001b[39m# Since we didn't append B in the list, we multiply it separately here.\u001b[39;00m\n\u001b[0;32m     66\u001b[0m     prod \u001b[39m=\u001b[39m ca\u001b[39m.\u001b[39mmtimes(prod, B)\n",
      "Cell \u001b[1;32mIn[10], line 41\u001b[0m, in \u001b[0;36mmultiply_matrices_in_reverse\u001b[1;34m(matrices, start, end)\u001b[0m\n\u001b[0;32m     28\u001b[0m \u001b[39m\"\"\"\u001b[39;00m\n\u001b[0;32m     29\u001b[0m \u001b[39mMultiplies matrices in the provided list from index 'end-1' to index 'start' in reverse order.\u001b[39;00m\n\u001b[0;32m     30\u001b[0m \u001b[39m\u001b[39;00m\n\u001b[1;32m   (...)\u001b[0m\n\u001b[0;32m     37\u001b[0m \u001b[39m- Matrix product in reverse order of the selected range.\u001b[39;00m\n\u001b[0;32m     38\u001b[0m \u001b[39m\"\"\"\u001b[39;00m\n\u001b[0;32m     39\u001b[0m \u001b[39m# example range 1 to 4 \u001b[39;00m\n\u001b[0;32m     40\u001b[0m \u001b[39m# result = A3 \u001b[39;00m\n\u001b[1;32m---> 41\u001b[0m result \u001b[39m=\u001b[39m matrices[end\u001b[39m-\u001b[39;49m\u001b[39m1\u001b[39;49m]  \u001b[39m# Starting with the last matrix in the range\u001b[39;00m\n\u001b[0;32m     42\u001b[0m \u001b[39m# range is range(2, 0, -1) = 2, 1\u001b[39;00m\n\u001b[0;32m     43\u001b[0m \u001b[39mfor\u001b[39;00m i \u001b[39min\u001b[39;00m \u001b[39mrange\u001b[39m(end\u001b[39m-\u001b[39m\u001b[39m2\u001b[39m, start\u001b[39m-\u001b[39m\u001b[39m1\u001b[39m, \u001b[39m-\u001b[39m\u001b[39m1\u001b[39m):  \u001b[39m# Moving in reverse order\u001b[39;00m\n\u001b[0;32m     44\u001b[0m         \u001b[39m# for i = 2: result = A3*A2\u001b[39;00m\n\u001b[0;32m     45\u001b[0m         \u001b[39m# for i = 1: result = A3*A2*A1\u001b[39;00m\n",
      "\u001b[1;31mIndexError\u001b[0m: list index out of range"
     ]
    }
   ],
   "source": [
    "import casadi as ca\n",
    "\n",
    "# Sample function to get A at a given k (just for illustrative purposes)\n",
    "def get_A_at_k(k):\n",
    "    # For demonstration, let's just return a slightly modified A at each k\n",
    "    return ca.MX(ca.DM([[1.1 + 0.01*k, 0], [0, 0.95]]))\n",
    "\n",
    "# Define the initial system matrices (you can modify this as needed)\n",
    "A = ca.MX(ca.DM([[1.1, 0], [0, 0.95]]))\n",
    "B = ca.MX(ca.DM([[0], [1]]))\n",
    "\n",
    "# Prediction horizon\n",
    "N = 10\n",
    "\n",
    "# Create the list of A matrices for each sample up to the horizon\n",
    "As_list = [get_A_at_k(k) for k in range(N)]\n",
    "\n",
    "# Initialize A_bar and B_bar\n",
    "num_states = A.size1() \n",
    "num_controls = B.size2()\n",
    "A_bar = ca.MX.zeros(num_states * N, num_states)\n",
    "B_bar = ca.MX.zeros(num_states * N, num_controls * N)\n",
    "\n",
    "# function to help create B_bar. It may be too memory inefficient later\n",
    "import casadi as ca\n",
    "\n",
    "def multiply_list_in_reverse(matrices):\n",
    "    \"\"\"\n",
    "    Multiplies matrices in the provided list in reverse order.\n",
    "    \n",
    "    Args:\n",
    "    - matrices (list): List of matrices (either CasADi or NumPy).\n",
    "\n",
    "    Returns:\n",
    "    - Matrix product in reverse order of the provided list.\n",
    "    \"\"\"\n",
    "    \n",
    "    if not matrices:  # Check if the list is empty\n",
    "        return None\n",
    "\n",
    "    result = matrices[-1]  # Starting with the last matrix in the list\n",
    "    for i in range(len(matrices) - 2, -1, -1):  # Moving in reverse order\n",
    "        result = ca.mtimes(matrices[i], result)\n",
    "\n",
    "    return result\n",
    "\n",
    "\n",
    "# Construct A_bar and B_bar\n",
    "for i in range(N): # i = take 2 for example \n",
    "    Ak = ca.MX.eye(num_states)  # Start with identity matrix\n",
    "    for k in range(i+1):  # Multiply by A's from the list to simulate the effect\n",
    "        Ak = ca.mtimes(As_list[i-k], Ak)\n",
    "\n",
    "    A_bar[num_states*i:num_states*(i+1), :] = Ak\n",
    "\n",
    "    # Construct B_bar using the multiply_matrices_in_reverse function \n",
    "    # j = 2,1\n",
    "    for j in range(i,0,-1): \n",
    "        # for j = 0, calling As_list[1,2] = A1,A2 \n",
    "        matrices_to_multiply = As_list[i-j+1:i]\n",
    "        # multiply_matrices_in_reverse(matrices_to_multiply, 0, 2) = A1\n",
    "        prod = multiply_list_in_reverse(matrices_to_multiply)\n",
    "        # Since we didn't append B in the list, we multiply it separately here.\n",
    "        prod = ca.mtimes(prod, B)\n",
    "        B_bar[num_states*i:num_states*(i+1), num_controls*j:num_controls*(j+1)] = prod\n",
    "\n",
    "# Now A_bar and B_bar are constructed and ready for use in MPC formulations.\n"
   ]
  },
  {
   "cell_type": "code",
   "execution_count": null,
   "metadata": {},
   "outputs": [],
   "source": []
  }
 ],
 "metadata": {
  "kernelspec": {
   "display_name": "Python 3",
   "language": "python",
   "name": "python3"
  },
  "language_info": {
   "codemirror_mode": {
    "name": "ipython",
    "version": 3
   },
   "file_extension": ".py",
   "mimetype": "text/x-python",
   "name": "python",
   "nbconvert_exporter": "python",
   "pygments_lexer": "ipython3",
   "version": "3.10.11"
  },
  "orig_nbformat": 4
 },
 "nbformat": 4,
 "nbformat_minor": 2
}
