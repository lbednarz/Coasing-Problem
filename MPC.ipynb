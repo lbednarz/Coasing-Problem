{
 "cells": [
  {
   "cell_type": "code",
   "execution_count": 7,
   "metadata": {},
   "outputs": [
    {
     "name": "stdout",
     "output_type": "stream",
     "text": [
      "<class 'casadi.casadi.MX'>\n",
      "solver(zeros(1x10), [3, 1], zeros(1x10), zeros(1x10), 0x1, 0x1, zeros(1x10), 0x1){1}\n",
      "0x1\n",
      "{'iter_count': 544106784, 'n_call_callback_fun': 0, 'n_call_nlp_f': 0, 'n_call_nlp_g': 0, 'n_call_nlp_grad': 0, 'n_call_nlp_grad_f': 0, 'n_call_nlp_hess_l': 0, 'n_call_nlp_jac_g': 0, 'return_status': 'Unset', 'success': False, 't_proc_callback_fun': 0.0, 't_proc_nlp_f': 0.0, 't_proc_nlp_g': 0.0, 't_proc_nlp_grad': 0.0, 't_proc_nlp_grad_f': 0.0, 't_proc_nlp_hess_l': 0.0, 't_proc_nlp_jac_g': 0.0, 't_wall_callback_fun': 0.0, 't_wall_nlp_f': 0.0, 't_wall_nlp_g': 0.0, 't_wall_nlp_grad': 0.0, 't_wall_nlp_grad_f': 0.0, 't_wall_nlp_hess_l': 0.0, 't_wall_nlp_jac_g': 0.0, 'unified_return_status': 'SOLVER_RET_UNKNOWN'}\n"
     ]
    }
   ],
   "source": [
    "import casadi as ca\n",
    "\n",
    "# Define the initial system matrices (you can modify this as needed)\n",
    "A = ca.MX(ca.DM([[1.1, 0], [0, 0.95]]))\n",
    "B = ca.MX(ca.DM([[0], [1]]))\n",
    "Q = ca.MX(ca.DM([[1, 0], [0, 1]]))\n",
    "R = ca.MX(ca.DM(1))\n",
    "P = ca.MX(ca.DM([[1, 0], [0, 1]]))\n",
    "\n",
    "N = 10  # Prediction horizon\n",
    "n_states = A.shape[0]\n",
    "n_controls = B.shape[1]\n",
    "\n",
    "# Set up symbolic variables\n",
    "x_0 = ca.MX.sym('x_0', n_states)\n",
    "U = ca.MX.sym('U', n_controls, N)  # Stack of control actions over the horizon\n",
    "\n",
    "# Discretize the system dynamics over the prediction horizon\n",
    "X = [x_0]\n",
    "for i in range(N):\n",
    "    X.append(A@X[-1] + B@U[:, i])\n",
    "\n",
    "# Formulate the cost function\n",
    "cost = X[-1].T @ P @ X[-1]\n",
    "for i in range(N):\n",
    "    cost += X[i].T @ Q @ X[i] + U[:, i].T @ R @ U[:, i]\n",
    "\n",
    "# Define the optimization problem\n",
    "nlp = {'x': U, 'f': cost, 'g': [], 'p': x_0}\n",
    "opts = {'ipopt': {'print_level': 5}, 'print_time': 0}\n",
    "solver = ca.nlpsol('solver', 'ipopt', nlp, opts)\n",
    "\n",
    "# Solve the optimization problem\n",
    "x0_val = ca.MX(ca.DM([[3], [1]]))\n",
    "U0 = ca.DM.zeros(n_controls, N)  # initial guess for control actions\n",
    "res = solver(x0=U0, lbx=[], ubx=[], lbg=[], ubg=[], p=x0_val)\n",
    "#optimal_controls = optimal_controls = ca.DM(res['x']).full()\n",
    "print(type(res['x']))\n",
    "print(res['f'])  # Objective function value\n",
    "print(res['g'])  # Constraints (should be empty in your case)\n",
    "print(solver.stats())  # Solver statistics\n",
    "\n",
    "\n",
    "# ... use optimal_controls in your system ...\n"
   ]
  }
 ],
 "metadata": {
  "kernelspec": {
   "display_name": "Python 3",
   "language": "python",
   "name": "python3"
  },
  "language_info": {
   "codemirror_mode": {
    "name": "ipython",
    "version": 3
   },
   "file_extension": ".py",
   "mimetype": "text/x-python",
   "name": "python",
   "nbconvert_exporter": "python",
   "pygments_lexer": "ipython3",
   "version": "3.10.11"
  },
  "orig_nbformat": 4
 },
 "nbformat": 4,
 "nbformat_minor": 2
}
