{
 "cells": [
  {
   "cell_type": "code",
   "execution_count": 11,
   "metadata": {},
   "outputs": [
    {
     "ename": "NotImplementedError",
     "evalue": "Wrong number or type of arguments for overloaded function 'mtimes'.\n  Possible prototypes are:\n    mtimes([Sparsity])\n    mtimes([DM])\n    mtimes([SX])\n    mtimes([MX])\n    mtimes(Sparsity,Sparsity)\n    mtimes(DM,DM)\n    mtimes(SX,SX)\n    mtimes(MX,MX)\n  You have: '(NoneType,MX)'\n",
     "output_type": "error",
     "traceback": [
      "\u001b[1;31m---------------------------------------------------------------------------\u001b[0m",
      "\u001b[1;31mNotImplementedError\u001b[0m                       Traceback (most recent call last)",
      "Cell \u001b[1;32mIn[11], line 66\u001b[0m\n\u001b[0;32m     64\u001b[0m prod \u001b[39m=\u001b[39m multiply_list_in_reverse(matrices_to_multiply)\n\u001b[0;32m     65\u001b[0m \u001b[39m# Since we didn't append B in the list, we multiply it separately here.\u001b[39;00m\n\u001b[1;32m---> 66\u001b[0m prod \u001b[39m=\u001b[39m ca\u001b[39m.\u001b[39;49mmtimes(prod, B)\n\u001b[0;32m     67\u001b[0m B_bar[num_states\u001b[39m*\u001b[39mi:num_states\u001b[39m*\u001b[39m(i\u001b[39m+\u001b[39m\u001b[39m1\u001b[39m), num_controls\u001b[39m*\u001b[39mj:num_controls\u001b[39m*\u001b[39m(j\u001b[39m+\u001b[39m\u001b[39m1\u001b[39m)] \u001b[39m=\u001b[39m prod\n",
      "File \u001b[1;32mc:\\Users\\logan\\Documents\\Repos\\Coasing-Problem\\.conda\\lib\\site-packages\\casadi\\casadi.py:34083\u001b[0m, in \u001b[0;36mmtimes\u001b[1;34m(*args)\u001b[0m\n\u001b[0;32m  34055\u001b[0m \u001b[39mdef\u001b[39;00m \u001b[39mmtimes\u001b[39m(\u001b[39m*\u001b[39margs) \u001b[39m-\u001b[39m\u001b[39m>\u001b[39m \u001b[39m\"\u001b[39m\u001b[39mcasadi::Matrix< casadi::SXElem >\u001b[39m\u001b[39m\"\u001b[39m:\n\u001b[0;32m  34056\u001b[0m     \u001b[39m\"\"\"\u001b[39;00m\n\u001b[0;32m  34057\u001b[0m \u001b[39m      Matrix product of n matrices.\u001b[39;00m\n\u001b[0;32m  34058\u001b[0m \n\u001b[1;32m   (...)\u001b[0m\n\u001b[0;32m  34081\u001b[0m \n\u001b[0;32m  34082\u001b[0m \u001b[39m    \"\"\"\u001b[39;00m\n\u001b[1;32m> 34083\u001b[0m     \u001b[39mreturn\u001b[39;00m _casadi\u001b[39m.\u001b[39;49mmtimes(\u001b[39m*\u001b[39;49margs)\n",
      "\u001b[1;31mNotImplementedError\u001b[0m: Wrong number or type of arguments for overloaded function 'mtimes'.\n  Possible prototypes are:\n    mtimes([Sparsity])\n    mtimes([DM])\n    mtimes([SX])\n    mtimes([MX])\n    mtimes(Sparsity,Sparsity)\n    mtimes(DM,DM)\n    mtimes(SX,SX)\n    mtimes(MX,MX)\n  You have: '(NoneType,MX)'\n"
     ]
    }
   ],
   "source": [
    "import casadi as ca\n",
    "\n",
    "# Sample function to get A at a given k (just for illustrative purposes)\n",
    "def get_A_at_k(k):\n",
    "    # For demonstration, let's just return a slightly modified A at each k\n",
    "    return ca.MX(ca.DM([[1.1 + 0.01*k, 0], [0, 0.95]]))\n",
    "\n",
    "# Define the initial system matrices (you can modify this as needed)\n",
    "A = ca.MX(ca.DM([[1.1, 0], [0, 0.95]]))\n",
    "B = ca.MX(ca.DM([[0], [1]]))\n",
    "\n",
    "# Prediction horizon\n",
    "N = 10\n",
    "\n",
    "# Create the list of A matrices for each sample up to the horizon\n",
    "As_list = [get_A_at_k(k) for k in range(N)]\n",
    "\n",
    "# Initialize A_bar and B_bar\n",
    "num_states = A.size1() \n",
    "num_controls = B.size2()\n",
    "A_bar = ca.MX.zeros(num_states * N, num_states)\n",
    "B_bar = ca.MX.zeros(num_states * N, num_controls * N)\n",
    "\n",
    "# function to help create B_bar. It may be too memory inefficient later\n",
    "import casadi as ca\n",
    "\n",
    "def multiply_list_in_reverse(matrices):\n",
    "    \"\"\"\n",
    "    Multiplies matrices in the provided list in reverse order.\n",
    "    \n",
    "    Args:\n",
    "    - matrices (list): List of matrices (either CasADi or NumPy).\n",
    "\n",
    "    Returns:\n",
    "    - Matrix product in reverse order of the provided list.\n",
    "    \"\"\"\n",
    "    \n",
    "    if not matrices:  # Check if the list is empty\n",
    "        return None\n",
    "\n",
    "    result = matrices[-1]  # Starting with the last matrix in the list\n",
    "    for i in range(len(matrices) - 2, -1, -1):  # Moving in reverse order\n",
    "        result = ca.mtimes(matrices[i], result)\n",
    "\n",
    "    return result\n",
    "\n",
    "\n",
    "# Construct A_bar and B_bar\n",
    "for i in range(N): # i = take 2 for example \n",
    "    Ak = ca.MX.eye(num_states)  # Start with identity matrix\n",
    "    for k in range(i+1):  # Multiply by A's from the list to simulate the effect\n",
    "        Ak = ca.mtimes(As_list[i-k], Ak)\n",
    "\n",
    "    A_bar[num_states*i:num_states*(i+1), :] = Ak\n",
    "\n",
    "    # Construct B_bar using the multiply_matrices_in_reverse function \n",
    "    # j = 2,1\n",
    "    for j in range(i,0,-1): \n",
    "        # for j = 0, calling As_list[1,3] = A1,A2 \n",
    "        # for j = 1, calling As_list[2:3] = A2\n",
    "        matrices_to_multiply = As_list[i-j+1:i+1]\n",
    "        # for j = 0 multiply_list_in_reverse(matrices_to_multiply) = A2*A1\n",
    "        # for j = 1 multiply_list_in_reverse(matrices_to_multiply) = A2\n",
    "        prod = multiply_list_in_reverse(matrices_to_multiply)\n",
    "        # Since we didn't append B in the list, we multiply it separately here.\n",
    "        prod = ca.mtimes(prod, B)\n",
    "        B_bar[num_states*i:num_states*(i+1), num_controls*j:num_controls*(j+1)] = prod\n",
    "\n",
    "# Now A_bar and B_bar are constructed and ready for use in MPC formulations.\n"
   ]
  },
  {
   "cell_type": "code",
   "execution_count": null,
   "metadata": {},
   "outputs": [],
   "source": []
  }
 ],
 "metadata": {
  "kernelspec": {
   "display_name": "Python 3",
   "language": "python",
   "name": "python3"
  },
  "language_info": {
   "codemirror_mode": {
    "name": "ipython",
    "version": 3
   },
   "file_extension": ".py",
   "mimetype": "text/x-python",
   "name": "python",
   "nbconvert_exporter": "python",
   "pygments_lexer": "ipython3",
   "version": "3.10.11"
  },
  "orig_nbformat": 4
 },
 "nbformat": 4,
 "nbformat_minor": 2
}
