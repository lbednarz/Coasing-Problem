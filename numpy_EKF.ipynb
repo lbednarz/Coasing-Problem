{
 "cells": [
  {
   "attachments": {},
   "cell_type": "markdown",
   "metadata": {},
   "source": [
    "#### Numpy EKF \n",
    "\n",
    "Here, we present a verion of the EKF that only utilies the numpy library. This avoids the dabocle that came with the sympy library."
   ]
  },
  {
   "attachments": {},
   "cell_type": "markdown",
   "metadata": {},
   "source": [
    "##### The Model \n",
    "\n",
    "The system will use the following measurement model: \n",
    "\n",
    "> $z = \\begin{pmatrix} z_I \\\\ z_Q \\end{pmatrix} = \\begin{pmatrix} a*cos(\\theta) \\\\ a*sin(\\theta) \\end{pmatrix} + \\nu_k$\n",
    "\n",
    "Where $a$ is the signal amplitude, $z_I$ and $z_Q$ represent the in phase and quadrature sample of the incoming signal, repectively. \n",
    "\n",
    "The estimation of the signal amplitude will require a state augmentation. We will assume amplitude constancy as a dynamic model.\n",
    "\n",
    "After linearization, the measurement model will be: \n",
    "\n",
    "> $z-z(a^*,\\theta^*) = \\begin{bmatrix} -a*sin(\\theta^*) & 0 & 0 &  cos(\\theta^*) \\\\ a*cos(\\theta^*) & 0 & 0 & sin(\\theta^*)\\end{bmatrix} (x-x^*) + \\nu $\n",
    ">> == $z_{k}^{*}+H_{k}^{*}x^*= H_{k}^{*}x +\\nu_k$\n",
    "\n",
    "where all $(.)^*$ values come from some nominal trajectory and the state-space system becomes:\n",
    "\n",
    "> $\\begin{pmatrix} \\dot{\\theta} \\\\ \\dot{v} \\\\ \\dot{b} \\\\ \\dot{a} \\end{pmatrix} = \\begin{bmatrix} 0 & \\frac{1}{v_d + v_s} & 0 & 0 \\\\ 0 & -2\\Omega^{2}_{i/e} & 1 & 0 \\\\ 0 & 0 & \\frac{1}{\\tau} & 0 \\\\ 0 & 0 & 0 & 0 \\end{bmatrix} \\begin{pmatrix} \\theta \\\\ v \\\\ b \\\\ a \\end{pmatrix} + \\begin{bmatrix} 0 & 0 & 1 \\\\ 1 & 1 & 0 \\\\ 0 & 0 & 0 \\\\ 0 & 0 & 0  \\end{bmatrix} \\begin{pmatrix} f \\\\ g \\\\ \\frac{v_d}{v_d+v_s} \\end{pmatrix} + \\begin{bmatrix} 1 & 0 & 0 \\\\ 0 & 1 & 0 \\\\ 0 & 0 & 1 \\\\ 0 & 0 & 0 \\end{bmatrix} \\begin{pmatrix} \\omega_{LO} \\\\ \\omega_{v} \\\\ \\omega_{IMU} \\end{pmatrix}$ "
   ]
  },
  {
   "cell_type": "code",
   "execution_count": 2,
   "metadata": {},
   "outputs": [],
   "source": [
    "# import numpy as np\n",
    "import autograd.numpy as np\n",
    "from autograd import jacobian"
   ]
  },
  {
   "cell_type": "code",
   "execution_count": 3,
   "metadata": {},
   "outputs": [],
   "source": [
    "# system's constant parameters \n",
    "v_d = 343                                       # speed of sound in dry air in m/s\n",
    "v_0 = 5                                         # initial magnitude of velocity \n",
    "f_d0 = 10                                       # initial doppler frequency in Hz\n",
    "v_s = (v_d+v_0)/f_d0 - v_d                      # solving for initial satellite velocity in m/s. This will be estimated later.\n",
    "omega_e = 1.99*(10**-7)                         # angular velocity of earth in rad/s \n",
    "tau = 1                                         # time constant of accelerometer bias \n",
    "phi_0 = np.pi/2                                 # initial phase offset of incoming signal\n",
    "a_0 = 1                                         # initial signal amplitude\n",
    "\n",
    "# simulation settings \n",
    "Ts = 10                                         # sample time in Hz\n",
    "Tc = .02                                        # coherent integration time in seconds \n",
    "st = 60                                         # requested simulation runtime in seconds "
   ]
  },
  {
   "attachments": {},
   "cell_type": "markdown",
   "metadata": {},
   "source": [
    "#### Non-linear dynamic adjustment \n",
    "\n",
    "Take the following system: \n",
    "\n",
    "> $x_k = F(x_{k-1}, u_{k-1}, w_{k-1})$\n",
    "\n",
    "Linearizing \n",
    "\n",
    "> $x_k \\approx x_{k}(x^*_{k-1}, u^*_{k-1}, w^*_{k-1}) + \\frac{dF}{dx}|_{x = x^*}(x_{k-1} - x^*_{k-1}) + \\frac{dF}{du}|_{u = u^*_{k-1}} (u_{k-1} - u^*_{k-1}) + \\frac{dF}{dw}|_{w = w^*} (w_{k-1} - w^*_{k-1})$\n",
    "\n",
    "This can be re-arranged into "
   ]
  },
  {
   "attachments": {},
   "cell_type": "markdown",
   "metadata": {},
   "source": [
    ">$ x_k = \\frac{dF}{dx}|_{x = x^*} x_{k-1} + F_{adj} \\begin{pmatrix}  x_{k}(x^*_{k-1}, u^*_{k-1}, w^*_{k-1}) & x^*_{k-1} & u_{k-1} & u^*_{k-1} & w^*_{k-1} \\end{pmatrix}^T + \\frac{dF}{dw}|_{w = w^*} w_{k-1}$\n",
    "\n",
    "Where \n",
    "\n",
    "> $F_{adj} = \\begin{bmatrix} I & -\\frac{dF}{dx}|_{x = x^*} & F' & -\\frac{dF}{du}|_{u = u^*_{k-1}} & -\\frac{dF}{dw}|_{w = w^*}\\end{bmatrix}$\n",
    ">> $EX: F_{adj} = x_{k}(x^*_{k-1}, u^*_{k-1}, w^*_{k-1}) -\\frac{dF}{dx}|_{x = x^*} x^*_{k-1} + F'u_{k-1} - \\frac{dF}{du}|_{u = u^*_{k-1}}u^*_{k-1} -\\frac{dF}{dw}|_{w = w^*}w^*_{k-1}$\n",
    "\n",
    "Where\n",
    "\n",
    ">$F' = \\left\\{ \\begin{array}{lr} \\frac{dF}{du}|_{u = u^*_{k-1}}, & \\text{when} \\ \\mathbb{J} \\neq 0\\\\ F,&  \\text{otherwise} \\end{array} \\right\\}$\n",
    ">> NOTE $w^* = E[w] = 0$\n",
    "\n",
    "> Take $x_{k}(x^*_{k-1}, u^*_{k-1}, w^*_{k-1}) = x^*_k$\n",
    ">> $x_k \\approx  \\frac{dF}{dx}|_{x = x^*} x_{k-1} + \\begin{bmatrix} I & -\\frac{dF}{dx}|_{x = x^*} & F' & -\\frac{dF}{du}|_{u = u^*_{k-1}} \\end{bmatrix}  \\begin{pmatrix}  x^*_{k} & x^*_{k-1} & u_{k-1} & u^*_{k-1}\\end{pmatrix}^T + \\frac{dF}{dw}|_{w = w^*} w_{k-1}$ Note that $u_k = u^*_k$ in nearly all cases since this is a deterministic input.\n",
    "\n",
    "Finally, we introduce the following convention \n",
    "\n",
    "> $x_k \\approx F^*_x x_{k-1} + F_{adj} \\bar{u}_{k-1} + F^*_w w_{k-1}$\n",
    ">> $F^*_x = \\frac{dF}{dx}|_{x = x^*} \\\\ F_{adj} = \\begin{bmatrix} I & -\\frac{dF}{dx}|_{x = x^*} & F' & -\\frac{dF}{du}|_{u = u^*_{k-1}} \\end{bmatrix} \\\\ \\bar{u} = \\begin{pmatrix}  x^*_{k} & x^*_{k-1} & u_{k-1} & u^*_{k-1}\\end{pmatrix}^T \\\\ F^*_w = \\frac{dF}{dw}|_{w = w^*}$  "
   ]
  },
  {
   "cell_type": "code",
   "execution_count": null,
   "metadata": {},
   "outputs": [],
   "source": [
    "def ekf_update(x_hat, x, u, w, z, Phat, F_x, F_u, F_w, H_func, Q, R, jac_u): # TODO: don't pass in w like this. Generate it. \n",
    "    \"\"\"\n",
    "    Implements the extended Kalman filter algorithm.\n",
    "    # TODO show new function args \n",
    "    Args:\n",
    "        xhat (ndarray): priori for states in this epoch.\n",
    "        x (ndarray): State vector to linearize off of.\n",
    "        z (ndarray): The measurement vector.\n",
    "        u (ndarray): The control input vector to linearize off of.\n",
    "        w (ndarray): The noise at this time step.\n",
    "        Phat (ndarray): Priori covariance of xhat.\n",
    "        F_func (callable): The state transition function F(x,u).\n",
    "        H_func (callable): The measurement function H(x).\n",
    "        Q_func (callable): The process noise covariance function Q(x,u).\n",
    "        R_func (callable): The measurement noise covariance function R(x).\n",
    "        jac_u (ndarray): The jacobian of F_func wrt u. Used in Fadj.\n",
    "\n",
    "    Returns:\n",
    "        tuple: A tuple containing the updated state vector and state covariance matrix.\n",
    "    \"\"\"\n",
    "        \n",
    "    # Time update\n",
    "    xbar = F_x*xhat + F_u*u                     # Calculate the predicted state vector. \n",
    "    Pbar = F_x @ Phat @ F_x.T + F_w @ Q @ F_w.T  # This is our \"P_bar\"      \n",
    "    \n",
    "    # Measurement Update\n",
    "    H_x = is_linear(H_func, x) # Check if H_func is linear, and compute the Jacobian if isn't \n",
    "    S = H_x @ Pbar @ H_x.T + R \n",
    "    K = Pbar @ H_x.T @ np.linalg.inv(S)        # calculate kalman gain\n",
    "    xhat = xbar + K @ (z - H_x @ xbar)      \n",
    "    Phat = (np.eye(len(x)) - K @ H_x) @ Pbar \n",
    "\n",
    "    return xhat, Phat\n",
    "\n",
    "def is_linear(func, argnumber, *args):\n",
    "    \"\"\"Check if a function is linear or nonlinear using autograd. If it is, apply the points to linearize off of.\"\"\"\n",
    "    jac = jacobian(func, argnum = argnumber)(*args)\n",
    "    # if the jacobian is approximately zero, there's no need to linearize the function. \n",
    "    linear = np.allclose(jac, np.zeros_like(jac)) \n",
    "    if linear: \n",
    "        return func\n",
    "    else: \n",
    "        return jac"
   ]
  },
  {
   "cell_type": "code",
   "execution_count": null,
   "metadata": {},
   "outputs": [],
   "source": [
    "#TODO define F_func (non-linear dyanamics) and trajectory for x,y,z    \n",
    "\n",
    "# this let's us return the jacobian of a matrix as a lambda function, so that these all only need to be evaluated once. \n",
    "def get_jacobian_func(func, argnum):\n",
    "    jacobian_func = jacobian(func, argnum=argnum)\n",
    "    return lambda *args: jacobian_func(*args)\n",
    "\n",
    "def F_func(x, u):\n",
    "    return np.array([x**2, np.sin(u)])\n",
    "\n",
    "# returns lamba function forms of jacobians \n",
    "# TODO having one function in this way doesn't make sense in the case of a linear function \n",
    "F_x = get_jacobian_func(F_func, 0)  \n",
    "F_u = get_jacobian_func(F_func, 1)\n",
    "F_w = get_jacobian_func(F_func, 2)\n",
    "\n",
    "# TODO define state trajectories and run EKF \n",
    "# Fadj explained above\n",
    "Fadj = np.hstack(np.eye(F_x.shape), F_x)\n",
    "Fadj = np.hstack(Fadj, )"
   ]
  }
 ],
 "metadata": {
  "kernelspec": {
   "display_name": "Python 3",
   "language": "python",
   "name": "python3"
  },
  "language_info": {
   "codemirror_mode": {
    "name": "ipython",
    "version": 3
   },
   "file_extension": ".py",
   "mimetype": "text/x-python",
   "name": "python",
   "nbconvert_exporter": "python",
   "pygments_lexer": "ipython3",
   "version": "3.10.9"
  },
  "orig_nbformat": 4
 },
 "nbformat": 4,
 "nbformat_minor": 2
}
