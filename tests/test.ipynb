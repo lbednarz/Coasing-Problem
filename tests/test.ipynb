{
 "cells": [
  {
   "cell_type": "code",
   "execution_count": 5,
   "metadata": {},
   "outputs": [
    {
     "name": "stdout",
     "output_type": "stream",
     "text": [
      "[4. 0.]\n",
      "[4. 0.]\n"
     ]
    }
   ],
   "source": [
    "import autograd.numpy as np\n",
    "from autograd import jacobian\n",
    "\n",
    "def F_func(x, u):\n",
    "    return np.array([x**2, np.sin(u)])\n",
    "\n",
    "def get_jacobian_func(func, argnum):\n",
    "    jacobian_func = jacobian(func, argnum=argnum)\n",
    "    return lambda *args: jacobian_func(*args)\n",
    "\n",
    "F_x = get_jacobian_func(F_func, argnum=0)\n",
    "x = 2.0\n",
    "u = 3.0\n",
    "F_x_prime = F_x(x, u)\n",
    "print(F_x_prime)\n",
    "print(jacobian(F_func, argnum=0)(x,u))\n",
    "\n"
   ]
  },
  {
   "cell_type": "code",
   "execution_count": 1,
   "metadata": {},
   "outputs": [
    {
     "ename": "ImportError",
     "evalue": "cannot import name 'control' from 'scipy' (c:\\Users\\logan\\Documents\\Repos\\Coasing-Problem\\.venv\\Lib\\site-packages\\scipy\\__init__.py)",
     "output_type": "error",
     "traceback": [
      "\u001b[1;31m---------------------------------------------------------------------------\u001b[0m",
      "\u001b[1;31mImportError\u001b[0m                               Traceback (most recent call last)",
      "Cell \u001b[1;32mIn[1], line 3\u001b[0m\n\u001b[0;32m      1\u001b[0m \u001b[39mimport\u001b[39;00m \u001b[39mnumpy\u001b[39;00m \u001b[39mas\u001b[39;00m \u001b[39mnp\u001b[39;00m\n\u001b[0;32m      2\u001b[0m \u001b[39mimport\u001b[39;00m \u001b[39mmatplotlib\u001b[39;00m\u001b[39m.\u001b[39;00m\u001b[39mpyplot\u001b[39;00m \u001b[39mas\u001b[39;00m \u001b[39mplt\u001b[39;00m\n\u001b[1;32m----> 3\u001b[0m \u001b[39mfrom\u001b[39;00m \u001b[39mscipy\u001b[39;00m \u001b[39mimport\u001b[39;00m signal, control\n\u001b[0;32m      5\u001b[0m \u001b[39m# Define transfer function\u001b[39;00m\n\u001b[0;32m      6\u001b[0m num \u001b[39m=\u001b[39m [\u001b[39m1\u001b[39m, \u001b[39m2\u001b[39m]\n",
      "\u001b[1;31mImportError\u001b[0m: cannot import name 'control' from 'scipy' (c:\\Users\\logan\\Documents\\Repos\\Coasing-Problem\\.venv\\Lib\\site-packages\\scipy\\__init__.py)"
     ]
    }
   ],
   "source": [
    "import numpy as np\n",
    "import matplotlib.pyplot as plt\n",
    "from scipy import signal, control\n",
    "\n",
    "# Define transfer function\n",
    "num = [1, 2]\n",
    "den = [1, 3, 2]\n",
    "sys = control.TransferFunction(num, den)\n",
    "\n",
    "# Calculate frequency response\n",
    "w, mag, phase = signal.bode(sys)\n",
    "\n",
    "# Plot frequency response\n",
    "fig, ax = plt.subplots(2, 1)\n",
    "ax[0].semilogx(w, mag)\n",
    "ax[0].set_xlabel('Frequency [rad/s]')\n",
    "ax[0].set_ylabel('Magnitude [dB]')\n",
    "ax[0].set_title('Bode Plot')\n",
    "\n",
    "ax[1].semilogx(w, phase)\n",
    "ax[1].set_xlabel('Frequency [rad/s]')\n",
    "ax[1].set_ylabel('Phase [deg]')\n",
    "ax[1].set_title('Phase Plot')\n",
    "\n",
    "# Plot root locus\n",
    "rlist, klist = control.root_locus(sys)\n",
    "plt.figure()\n",
    "plt.plot(rlist.real, rlist.imag, '.')\n",
    "plt.xlabel('Real Axis')\n",
    "plt.ylabel('Imaginary Axis')\n",
    "plt.title('Root Locus Plot')\n",
    "\n",
    "plt.show()\n"
   ]
  }
 ],
 "metadata": {
  "kernelspec": {
   "display_name": "Python 3",
   "language": "python",
   "name": "python3"
  },
  "language_info": {
   "codemirror_mode": {
    "name": "ipython",
    "version": 3
   },
   "file_extension": ".py",
   "mimetype": "text/x-python",
   "name": "python",
   "nbconvert_exporter": "python",
   "pygments_lexer": "ipython3",
   "version": "3.11.2"
  },
  "orig_nbformat": 4
 },
 "nbformat": 4,
 "nbformat_minor": 2
}
