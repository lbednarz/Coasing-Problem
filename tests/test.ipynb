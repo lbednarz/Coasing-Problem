{
 "cells": [
  {
   "cell_type": "code",
   "execution_count": 5,
   "metadata": {},
   "outputs": [
    {
     "name": "stdout",
     "output_type": "stream",
     "text": [
      "[4. 0.]\n",
      "[4. 0.]\n"
     ]
    }
   ],
   "source": [
    "import autograd.numpy as np\n",
    "from autograd import jacobian\n",
    "\n",
    "def F_func(x, u):\n",
    "    return np.array([x**2, np.sin(u)])\n",
    "\n",
    "def get_jacobian_func(func, argnum):\n",
    "    jacobian_func = jacobian(func, argnum=argnum)\n",
    "    return lambda *args: jacobian_func(*args)\n",
    "\n",
    "F_x = get_jacobian_func(F_func, argnum=0)\n",
    "x = 2.0\n",
    "u = 3.0\n",
    "F_x_prime = F_x(x, u)\n",
    "print(F_x_prime)\n",
    "print(jacobian(F_func, argnum=0)(x,u))\n",
    "\n"
   ]
  }
 ],
 "metadata": {
  "kernelspec": {
   "display_name": "Python 3",
   "language": "python",
   "name": "python3"
  },
  "language_info": {
   "codemirror_mode": {
    "name": "ipython",
    "version": 3
   },
   "file_extension": ".py",
   "mimetype": "text/x-python",
   "name": "python",
   "nbconvert_exporter": "python",
   "pygments_lexer": "ipython3",
   "version": "3.10.9"
  },
  "orig_nbformat": 4
 },
 "nbformat": 4,
 "nbformat_minor": 2
}
