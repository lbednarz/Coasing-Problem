{
 "cells": [
  {
   "cell_type": "code",
   "execution_count": 1,
   "metadata": {},
   "outputs": [],
   "source": [
    "# all external imports\n",
    "import sys\n",
    "import numpy as np \n",
    "import scipy as sp\n",
    "import sympy \n",
    "import dataclasses\n",
    "from typing import Optional\n",
    "import pandas as pd\n",
    "import matplotlib.pyplot as plt\n",
    "import control as ct\n",
    "\n",
    "# other files I created \n",
    "import header\n",
    "import linearize\n",
    "import initialize\n",
    "import kalmanFilter as kf\n",
    "import simMeasurements as sm\n",
    "import spreadingcode as sc\n",
    "import freq_resp as fr"
   ]
  },
  {
   "cell_type": "code",
   "execution_count": null,
   "metadata": {},
   "outputs": [],
   "source": [
    "### define problem parameters ###\n",
    "\n",
    "# physical parameters \n",
    "g = 9.81 # m/s^2\n",
    "c = 2.99792458e8;\n",
    "L5 = 1176.45e6;\n",
    "lam5 = c/L5;\n",
    "\n",
    "# stochastic information for IMU \n",
    "VRW = 0.033                         # m/s/sqrt(hr)\n",
    "Qaw = (VRW/60)**2                   # (m/s^2)^2/Hz\n",
    "\n",
    "tauab = 500                         # s\n",
    "sigab = 0.014                       # mg\n",
    "sab = sigab/1000*g                  # m/^2 \n",
    "\n",
    "v_0 = 5                             # initial magnitude of velocity \n",
    "f_d0 = 10                           # initial doppler frequency in Hz\n",
    "v_s = (c+v_0)/f_d0 - c              # solving for initial satellite velocity in m/s. This will be estimated later.\n",
    "omega_e = 1.99*(10**-7)             # angular velocity of earth in rad/s \n",
    "tau = 1                             # time constant of accelerometer bias \n",
    "phi_0 = np.pi/2                     # initial phase offset of incoming signal\n",
    "a_0 = 1                             # initial signal amplitude\n",
    "\n",
    "\n",
    "# simulation settings \n",
    "Ts = 10                             # sample time in Hz\n",
    "Tc = .02                            # coherent integration time in seconds \n",
    "st = 60                             # requested simulation runtime in seconds "
   ]
  },
  {
   "cell_type": "code",
   "execution_count": null,
   "metadata": {},
   "outputs": [],
   "source": [
    "### Define measurement and dynamic models ###\n"
   ]
  }
 ],
 "metadata": {
  "kernelspec": {
   "display_name": "Python 3",
   "language": "python",
   "name": "python3"
  },
  "language_info": {
   "codemirror_mode": {
    "name": "ipython",
    "version": 3
   },
   "file_extension": ".py",
   "mimetype": "text/x-python",
   "name": "python",
   "nbconvert_exporter": "python",
   "pygments_lexer": "ipython3",
   "version": "3.10.11"
  },
  "orig_nbformat": 4
 },
 "nbformat": 4,
 "nbformat_minor": 2
}
