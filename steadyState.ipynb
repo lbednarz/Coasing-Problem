{
 "cells": [
  {
   "cell_type": "code",
   "execution_count": 2,
   "metadata": {},
   "outputs": [],
   "source": [
    "import numpy as np \n",
    "import control as ct\n",
    "\n",
    "# constants \n",
    "c = 2.99792458e8;\n",
    "L5 = 1176.45e6;\n",
    "lam5 = c/L5;\n",
    "\n",
    "# clock noise information\n",
    "CN0dBHz = -0\n",
    "CN0 = 10**(CN0dBHz/10)\n",
    "\n",
    "h0 = 1.5e-22\n",
    "h0 = h0*20    # *20 w/ vibration\n",
    "h_2 = 8.5e-32\n",
    "\n",
    "Sf = h0/2*L5**2\n",
    "Sg = 2*np.pi**2*h_2*L5**2\n",
    "\n",
    "# noise terms for SS system\n",
    "Q = np.diag([Sf, Sg])\n",
    "R = np.array([1/CN0])\n",
    "\n",
    "# dynamic and measurement model information\n",
    "A = np.array([[0,1],[0,0]])\n",
    "G = np.eye(Q.shape[1])\n",
    "H = np.array([1,0])"
   ]
  },
  {
   "attachments": {},
   "cell_type": "markdown",
   "metadata": {},
   "source": [
    "#### Steady State Kalman Filter Equations\n",
    "\n",
    "> $\\dot{P}(t) = AP(t) + P(t)A^{T} + GQG^{T} - P(t)H^{T}R^{-1}HP(t)$\n",
    "\n",
    "> $\\dot{\\hat{x}}(t) = A\\hat{x}(t) + Bu(t) + P(t)H^{T}R^{-1}[z(t) - H\\hat{x}(t)]$\n",
    ">> $K(t) = P(t)H^TR^{-1}$\n",
    "\n",
    "> $\\dot{e}(t) = \\dot{x}(t)-\\dot{\\hat{x}} = (A-K(t)H)e(t) \\ + Gw \\\\ \\dot{P}_e = (A-K(t)H)P_e(A-K(t)H)^T + GQG^T$\n",
    "\n",
    "Follow this link for complete explanation of what's being done here: \n",
    "https://www.notion.so/Steady-State-Kalman-Gain-and-Averaging-602bd1237b5044049e2e85d17af2b2f8\n",
    "\n",
    ">$K = PH^TR^{-1}\\\\ where: \\ \\ 0 = AP + PA^{T} + GQG^{T} - PH^{T}R^{-1}HP\\\\ note: \\ P = P(t=\\infty)$\n"
   ]
  },
  {
   "cell_type": "code",
   "execution_count": 3,
   "metadata": {},
   "outputs": [
    {
     "ename": "TypeError",
     "evalue": "\nData type not understood; expecting list of lists or lists of values.",
     "output_type": "error",
     "traceback": [
      "\u001b[1;31m---------------------------------------------------------------------------\u001b[0m",
      "\u001b[1;31mTypeError\u001b[0m                                 Traceback (most recent call last)",
      "Cell \u001b[1;32mIn[3], line 8\u001b[0m\n\u001b[0;32m      6\u001b[0m Wsp \u001b[39m=\u001b[39m Matrix(G\u001b[39m@Q\u001b[39m\u001b[39m@np\u001b[39m\u001b[39m.\u001b[39mtranspose(G))\n\u001b[0;32m      7\u001b[0m Hsp \u001b[39m=\u001b[39m Matrix(H)\n\u001b[1;32m----> 8\u001b[0m Rsp \u001b[39m=\u001b[39m Matrix(R) \n\u001b[0;32m     10\u001b[0m \u001b[39m# we define the covariance in symbolic form \u001b[39;00m\n\u001b[0;32m     11\u001b[0m n, m \u001b[39m=\u001b[39m A\u001b[39m.\u001b[39mshape\n",
      "File \u001b[1;32mc:\\Users\\logan\\Documents\\Repos\\Coasing-Problem\\.conda\\lib\\site-packages\\sympy\\matrices\\repmatrix.py:329\u001b[0m, in \u001b[0;36mMutableRepMatrix.__new__\u001b[1;34m(cls, *args, **kwargs)\u001b[0m\n\u001b[0;32m    328\u001b[0m \u001b[39mdef\u001b[39;00m \u001b[39m__new__\u001b[39m(\u001b[39mcls\u001b[39m, \u001b[39m*\u001b[39margs, \u001b[39m*\u001b[39m\u001b[39m*\u001b[39mkwargs):\n\u001b[1;32m--> 329\u001b[0m     \u001b[39mreturn\u001b[39;00m \u001b[39mcls\u001b[39m\u001b[39m.\u001b[39m_new(\u001b[39m*\u001b[39margs, \u001b[39m*\u001b[39m\u001b[39m*\u001b[39mkwargs)\n",
      "File \u001b[1;32mc:\\Users\\logan\\Documents\\Repos\\Coasing-Problem\\.conda\\lib\\site-packages\\sympy\\matrices\\repmatrix.py:340\u001b[0m, in \u001b[0;36mMutableRepMatrix._new\u001b[1;34m(cls, copy, *args, **kwargs)\u001b[0m\n\u001b[0;32m    338\u001b[0m     rows, cols, flat_list \u001b[39m=\u001b[39m args\n\u001b[0;32m    339\u001b[0m \u001b[39melse\u001b[39;00m:\n\u001b[1;32m--> 340\u001b[0m     rows, cols, flat_list \u001b[39m=\u001b[39m \u001b[39mcls\u001b[39m\u001b[39m.\u001b[39m_handle_creation_inputs(\u001b[39m*\u001b[39margs, \u001b[39m*\u001b[39m\u001b[39m*\u001b[39mkwargs)\n\u001b[0;32m    341\u001b[0m     flat_list \u001b[39m=\u001b[39m \u001b[39mlist\u001b[39m(flat_list) \u001b[39m# create a shallow copy\u001b[39;00m\n\u001b[0;32m    343\u001b[0m rep \u001b[39m=\u001b[39m \u001b[39mcls\u001b[39m\u001b[39m.\u001b[39m_flat_list_to_DomainMatrix(rows, cols, flat_list)\n",
      "File \u001b[1;32mc:\\Users\\logan\\Documents\\Repos\\Coasing-Problem\\.conda\\lib\\site-packages\\sympy\\matrices\\matrices.py:1143\u001b[0m, in \u001b[0;36mMatrixBase._handle_creation_inputs\u001b[1;34m(cls, *args, **kwargs)\u001b[0m\n\u001b[0;32m   1140\u001b[0m     flat_list \u001b[39m=\u001b[39m []\n\u001b[0;32m   1142\u001b[0m \u001b[39mif\u001b[39;00m flat_list \u001b[39mis\u001b[39;00m \u001b[39mNone\u001b[39;00m:\n\u001b[1;32m-> 1143\u001b[0m     \u001b[39mraise\u001b[39;00m \u001b[39mTypeError\u001b[39;00m(filldedent(\u001b[39m'''\u001b[39m\n\u001b[0;32m   1144\u001b[0m \u001b[39m        Data type not understood; expecting list of lists\u001b[39m\n\u001b[0;32m   1145\u001b[0m \u001b[39m        or lists of values.\u001b[39m\u001b[39m'''\u001b[39m))\n\u001b[0;32m   1147\u001b[0m \u001b[39mreturn\u001b[39;00m rows, cols, flat_list\n",
      "\u001b[1;31mTypeError\u001b[0m: \nData type not understood; expecting list of lists or lists of values."
     ]
    }
   ],
   "source": [
    "# Explore the steady state covariance\n",
    "import sympy\n",
    "from sympy import Matrix, MatrixSymbol, solve\n",
    "\n",
    "Asp = Matrix(A)\n",
    "Wsp = Matrix(G@Q@np.transpose(G))\n",
    "Hsp = Matrix(H)\n",
    "Rsp = Matrix(R) \n",
    "\n",
    "# we define the covariance in symbolic form \n",
    "n, m = A.shape\n",
    "#P = Matrix(sympy.symbols('P0:%d:%d' % (n, n), real=True))\n",
    "P = MatrixSymbol('P', n, m)\n",
    "\n",
    "# define algebraic Riccati equation (ARE) that dictates steady state covariance\n",
    "are = sympy.Eq(Asp*P + P*Asp.transpose() + Wsp - P*Hsp.transpose()*Rsp.inv()*Hsp*P,0)\n",
    "solution = solve(are, P)"
   ]
  },
  {
   "cell_type": "code",
   "execution_count": null,
   "metadata": {},
   "outputs": [],
   "source": []
  }
 ],
 "metadata": {
  "kernelspec": {
   "display_name": "Python 3",
   "language": "python",
   "name": "python3"
  },
  "language_info": {
   "codemirror_mode": {
    "name": "ipython",
    "version": 3
   },
   "file_extension": ".py",
   "mimetype": "text/x-python",
   "name": "python",
   "nbconvert_exporter": "python",
   "pygments_lexer": "ipython3",
   "version": "3.10.11"
  },
  "orig_nbformat": 4
 },
 "nbformat": 4,
 "nbformat_minor": 2
}
