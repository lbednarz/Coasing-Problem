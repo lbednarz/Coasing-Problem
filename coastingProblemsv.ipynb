{
 "cells": [
  {
   "cell_type": "code",
   "execution_count": 19,
   "metadata": {},
   "outputs": [],
   "source": [
    "import sys\n",
    "import numpy as np \n",
    "import scipy as sp\n",
    "import sympy \n",
    "import dataclasses\n",
    "from typing import Optional\n",
    "import pandas as pd\n",
    "import matplotlib.pyplot as plt\n",
    "\n",
    "# other files I created \n",
    "import header\n",
    "import linearize\n",
    "import initialize\n",
    "import kalmanFilter as kf\n",
    "import simMeasurements as sm\n",
    "import spreadingcode as sc\n",
    "import freq_resp as fr"
   ]
  },
  {
   "attachments": {},
   "cell_type": "markdown",
   "metadata": {},
   "source": [
    "### The Dynamics and Measurement Model\n",
    "\n",
    "The phase will be estimated by the following process: \n",
    "\n",
    "> $\\phi_{k} = \\phi_{0} + 2\\pi(f_{d,k}kTs + \\frac{1}{2} \\dot{f}_{d,k} k^2 Ts^2)$\n",
    "\n",
    "Wherever we estimate a parameter, we incur a noise term on that estimate. The IMU will be reporting the observer velocity, $v_0$, but will impart a biased noise term, $\\eta_{IMU}$, onto it. Accounting for this in the traditional doppler frequency equation yields:  \n",
    "\n",
    "> ### $\\hat{f}_d = \\frac{v+v_0+\\eta_{IMU}}{v+v_s} + \\eta_{clock}$\n",
    "Where $\\hat{f}_d$ is the doppler estimate, $v$ is the speed of sound, $v_s$ is the signal source velocity, and $\\eta_{clock}$ is the clock process noise.\n",
    "\n",
    "This requires an estimate of the user velocity from the IMU. The equation used here will be: \n",
    "\n",
    "> $\\dot{v}^n = f^n -(\\Omega^{n}_{e/n} + 2 \\Omega^{n}_{i/e})v^n + g^n$\n",
    "\n",
    "We will make the assumption of 1D velocity, constant angular position states: \n",
    "\n",
    "> $\\dot{v}^n = f^n -(2 \\Omega^{n}_{i/e})v^n + g^n$\n",
    ">> biased accelerometer output: $f^n = f + b + \\omega_{IMU}$\n",
    "\n",
    "Here, $\\eta_{clock}$ will be a white, thermal noise source. However, the IMU noise will be biased and will require some dynamic model.  \n",
    "\n",
    "How to I model $\\eta_{IMU}$? \n",
    "\n",
    "#### FW difference FOGMP model: \n",
    "\n",
    ">$b_{k} = b_{k-1} + k*Ts*\\dot{b}_{k-1} = b_{k-1} + \\frac{k*Ts}{\\tau}(b_{k-1} + \\omega) = (1+\\frac{k*Ts}{\\tau})b_{k-1} + \\frac{k*Ts}{\\tau}*\\omega$\n",
    ">> ... $b_{k} = (1+\\frac{k*Ts}{\\tau})b_{k-1} + \\frac{k*Ts}{\\tau}*\\omega_{k-1}$"
   ]
  },
  {
   "attachments": {},
   "cell_type": "markdown",
   "metadata": {},
   "source": [
    "#### Dynamic model in continuous time \n",
    "> $ \\begin{pmatrix} \\dot{\\theta} \\\\ \\dot{f}_d \\\\ \\dot{v} \\\\ \\dot{b} \\end{pmatrix} = \\begin{pmatrix}  f_d \\\\ \\frac{d}{dt} (\\frac{\\nu + v}{\\nu + v_s}) \\\\ f + b - 2\\Omega^{2}_{i/e}v + g\\\\ \\frac{1}{\\tau}b \\end{pmatrix} + \\begin{pmatrix} \\omega_{LO} \\\\ 0 \\\\ \\omega_v \\\\ \\omega_{IMU}\\end{pmatrix}$\n",
    "\n",
    "Where the phase is given by the accuulation of the frequency $f(t)$ and the original phase: \n",
    "\n",
    ">$ \\theta = \\theta_0 + \\int^{t}_{t_0} f(t) dt$\n",
    "\n",
    "$f(t)$ should be the result of the doppler shift of the incoming signal."
   ]
  },
  {
   "attachments": {},
   "cell_type": "markdown",
   "metadata": {},
   "source": [
    "Note here that the $\\dot{f}_d$ state is redundant. We can directly substitute it in for the $\\dot{\\theta}$ equation: \n",
    "\n",
    "> $ \\begin{pmatrix} \\dot{\\theta} \\\\ \\dot{v} \\\\ \\dot{b} \\end{pmatrix} = \\begin{pmatrix}  \\frac{\\nu + v}{\\nu + v_s} \\\\ f + b - 2\\Omega^{2}_{i/e}v + g\\\\ \\frac{1}{\\tau}b\\end{pmatrix} + \\begin{pmatrix} \\omega_{LO}\\\\ \\omega_v \\\\ \\omega_{IMU}\\end{pmatrix}$\n",
    "\n",
    "or, separating states, control inputs, and noise termns (and adding the local clock phase noise)"
   ]
  },
  {
   "attachments": {},
   "cell_type": "markdown",
   "metadata": {},
   "source": [
    "> $ \\begin{pmatrix} \\dot{\\theta} \\\\ \\dot{v} \\\\ \\dot{b} \\end{pmatrix} = \\begin{bmatrix} 0 & \\frac{1}{v_d + v_s} & 0 \\\\ 0 & -2\\Omega^{2}_{i/e} & 1 \\\\ 0 & 0 & \\frac{1}{\\tau} \\end{bmatrix} \\begin{pmatrix} \\theta \\\\ v \\\\ b \\end{pmatrix} + \\begin{bmatrix} 0 & 0 & 1 \\\\ 1 & 1 & 0 \\\\ 0& 0 & 0 \\end{bmatrix} \\begin{pmatrix} f \\\\ g \\\\ \\frac{v_d}{v_d+v_s} \\end{pmatrix} + \\begin{bmatrix} 1 & 0 & 0 \\\\ 0 & 1 & 0 \\\\ 0 & 0 & 1 \\end{bmatrix} \\begin{pmatrix} \\omega_{LO} \\\\ \\omega_{v} \\\\ \\omega_{IMU} \\end{pmatrix}$\n",
    "\n",
    "Note that the speed of sound is now represented as $v_d$ since $\\nu$ is typically reserved for measurement noise (up next)."
   ]
  },
  {
   "attachments": {},
   "cell_type": "markdown",
   "metadata": {},
   "source": [
    "The system will use the following measurement model: \n",
    "\n",
    "> $z = \\begin{pmatrix} z_I \\\\ z_Q \\end{pmatrix} = \\begin{pmatrix} a*cos(\\theta) \\\\ a*sin(\\theta) \\end{pmatrix} + \\nu_k$\n",
    "\n",
    "Where $a$ is the signal amplitude, $z_I$ and $z_Q$ represent the in phase and quadrature sample of the incoming signal, repectively. \n",
    "\n",
    "The estimation of the signal amplitude will require a state augmentation. We will assume amplitude constancy as a dynamic model.\n",
    "\n",
    "After linearization, the measurement model will be: \n",
    "\n",
    "> $z-z(a^*,\\theta^*) = \\begin{bmatrix} -a*sin(\\theta^*) & 0 & 0 &  cos(\\theta^*) \\\\ a*cos(\\theta^*) & 0 & 0 & sin(\\theta^*)\\end{bmatrix} (x-x^*) + \\nu $\n",
    ">> == $z_{k}^{*}+H_{k}^{*}x^*= H_{k}^{*}x +\\nu_k$\n",
    "\n",
    "where all $(.)^*$ values come from some nominal trajectory and the state-space system becomes:\n",
    "\n",
    "> $\\begin{pmatrix} \\dot{\\theta} \\\\ \\dot{v} \\\\ \\dot{b} \\\\ \\dot{a} \\end{pmatrix} = \\begin{bmatrix} 0 & \\frac{1}{v_d + v_s} & 0 & 0 \\\\ 0 & -2\\Omega^{2}_{i/e} & 1 & 0 \\\\ 0 & 0 & \\frac{1}{\\tau} & 0 \\\\ 0 & 0 & 0 & 0 \\end{bmatrix} \\begin{pmatrix} \\theta \\\\ v \\\\ b \\\\ a \\end{pmatrix} + \\begin{bmatrix} 0 & 0 & 1 \\\\ 1 & 1 & 0 \\\\ 0 & 0 & 0 \\\\ 0 & 0 & 0  \\end{bmatrix} \\begin{pmatrix} f \\\\ g \\\\ \\frac{v_d}{v_d+v_s} \\end{pmatrix} + \\begin{bmatrix} 1 & 0 & 0 \\\\ 0 & 1 & 0 \\\\ 0 & 0 & 1 \\\\ 0 & 0 & 0 \\end{bmatrix} \\begin{pmatrix} \\omega_{LO} \\\\ \\omega_{v} \\\\ \\omega_{IMU} \\end{pmatrix}$ "
   ]
  },
  {
   "attachments": {},
   "cell_type": "markdown",
   "metadata": {},
   "source": [
    "### Code implementation "
   ]
  },
  {
   "cell_type": "code",
   "execution_count": 20,
   "metadata": {},
   "outputs": [],
   "source": [
    "# stocastic information \n",
    "sigma_nu = np.pi/16                             # measurement noise standard deviation (SD)\n",
    "sigma_v  = .5                                   # velocity measurement SD\n",
    "sigma_theta = np.pi/16                          # phase measurement SD\n",
    "sigma_b = .5                                    # accelerometer bias SD \n",
    "sigma_a = 1\n",
    "sigma_omega_IMU = .2                            # accelerometer noise SD\n",
    "sigma_omega_clock = .2                          # local ascillator phase noise SD \n",
    "sigma_omega_v = .2                              # non-IMU related process noise on velocity state\n",
    "P0 = np.diag([sigma_theta**2, sigma_v**2, sigma_b**2, sigma_a**2])                      # initial state covariance \n",
    "W  = np.diag([sigma_omega_IMU**2, sigma_omega_clock**2, sigma_omega_v**2])  # process noise covariance\n",
    "# W = np.concatenate((W,np.matrix([0,0,0])),axis=0) \n",
    "V  = np.diag([sigma_nu**2,sigma_nu**2])         # measurement noise covariance \n",
    "\n",
    "# system variables \n",
    "a, theta, v, b = sympy.symbols('a theta v b')   # all unknowns in system which may be 'lambdafied'\n",
    "vars = list([theta, v, b, a])                   # variable representation of states\n",
    "v_d = 343                                       # speed of sound in dry air in m/s\n",
    "v_0 = 5                                         # initial magnitude of velocity \n",
    "f_d0 = 10                                       # initial doppler frequency in Hz\n",
    "v_s = (v_d+v_0)/f_d0 - v_d                      # solving for initial satellite velocity in m/s. This will be estimated later.\n",
    "omega_e = 1.99*(10**-7)                         # angular velocity of earth in rad/s \n",
    "tau = 1                                         # time constant of accelerometer bias \n",
    "phi_0 = np.pi/2                                 # initial phase offset of incoming signal\n",
    "a_0 = 1                                         # initial signal amplitude\n",
    "\n",
    "# simulation settings \n",
    "Ts = 10                                         # sample time in Hz\n",
    "Tc = .02                                        # coherent integration time in seconds \n",
    "st = 60                                         # requested simulation runtime in seconds "
   ]
  },
  {
   "cell_type": "code",
   "execution_count": 21,
   "metadata": {},
   "outputs": [],
   "source": [
    "# measurements \n",
    "# linearize the observation matrix \n",
    "H = sympy.Matrix([[a*sympy.sin(theta)],[a*sympy.cos(theta)]])           # observation matrix \n",
    "dH, varsa = linearize.linearize(H, vars, (H.shape[0],len(vars)))\n",
    "\n",
    "# dynamics -> note that this system will not be linear after estimating v_s \n",
    "A = sympy.Matrix([[0, 1/(v_d+v_s),0,0],[0,0,1,0],[0,0,1/tau,0],[0,0,0,0]]) # state transition matrix\n",
    "nx = A.shape[0]                                    # number of states must match columns of A \n",
    "B = sympy.Matrix([[0,0,1],[1,0,0],[0,0,0],[0,0,0]])                            # control input matrix (sparse)\n",
    "nu = B.shape[1]\n",
    "G = sympy.Matrix([[1,0,0],[0,1,0],[0,0,1],[0,0,0]])             # process noise input matrix\n",
    "ng = G.shape[1]         # number of noise variables must match the colummns of G \n",
    "D = sympy.eye(H.shape[0],nu) # TODO change this to be what D typically is in a control system\n",
    "\n",
    "# store all system information in a dataclass \n",
    "sys = header.SymSystem(A, B, G, dH, D) # NOTE that dH is linearized, and the states there are defined by \n",
    "                                       # their deviation from some nominal value "
   ]
  },
  {
   "attachments": {},
   "cell_type": "markdown",
   "metadata": {},
   "source": [
    "#### The Kalman Filter \n",
    "\n",
    "The Kalman filter will require: \n",
    "- The system dynamics (we will use a header.SymSystem type)\n",
    "- The measurement model (same type as above)\n",
    "- The system statistics, which includes: \n",
    "    - The variances of all states and noise sources \n",
    "    - The initial covariance and MAP estimates of the states \n",
    "- A trajectory to linearize off of in the case of out non-linear dynamics "
   ]
  },
  {
   "cell_type": "code",
   "execution_count": 22,
   "metadata": {},
   "outputs": [],
   "source": [
    "# the Kalman filter args look like this: \n",
    "# def KalmanFilter(sys: h.SymSystem, init_args: dict, traj: np.ndarray, stats: dict):\n",
    "# we will package our information to suit this\n",
    "\n",
    "###### The init_args ######\n",
    "# sys is defined above \n",
    "initials = np.array([np.pi/2+.001, 0, .001, 1])\n",
    "initials = np.transpose(initials)\n",
    "var_list = list([theta, v, b, a])\n",
    "feilds = list([\"A\", \"B\", \"G\", \"C\", \"D\"]) # form elements of control system\n",
    "init_args_keys = list([\"sys\",\"initials\",\"var_list\",\"fields\"])\n",
    "init_arg_fields = list([sys, initials, var_list, feilds])\n",
    "init_args = dict.fromkeys(init_args_keys)\n",
    "for i, key in enumerate(init_args_keys):\n",
    "    init_args[key] = init_arg_fields[i]\n",
    "\n",
    "###### The statistics of the system, 'stats' ######\n",
    "# initial states \n",
    "theta0 = phi_0 + .001       # unitless    \n",
    "v = 10                      # m/s\n",
    "bias0 = .0001               # m/s \n",
    "a0 = 1                      # unitless?\n",
    "x0 = np.transpose(np.array([theta0, v, bias0, a0]))\n",
    "stats_keys = list([\"P0\", \"x0\", \"W\", \"V\"])\n",
    "fields = list([P0, x0, W, V])\n",
    "stats = dict.fromkeys(stats_keys)\n",
    "for i, keys in enumerate(stats_keys):\n",
    "    stats[keys] = fields[i]"
   ]
  },
  {
   "cell_type": "code",
   "execution_count": 23,
   "metadata": {},
   "outputs": [
    {
     "ename": "AttributeError",
     "evalue": "'ssSystem' object has no attribute 'frequency_response'",
     "output_type": "error",
     "traceback": [
      "\u001b[1;31m---------------------------------------------------------------------------\u001b[0m",
      "\u001b[1;31mAttributeError\u001b[0m                            Traceback (most recent call last)",
      "Cell \u001b[1;32mIn[23], line 11\u001b[0m\n\u001b[0;32m      8\u001b[0m D \u001b[39m=\u001b[39m sys_c\u001b[39m.\u001b[39mD \n\u001b[0;32m     10\u001b[0m omega \u001b[39m=\u001b[39m np\u001b[39m.\u001b[39mlogspace(\u001b[39m-\u001b[39m\u001b[39m2\u001b[39m, \u001b[39m2\u001b[39m, num\u001b[39m=\u001b[39m\u001b[39m100\u001b[39m)\n\u001b[1;32m---> 11\u001b[0m mag, phase, omega, tau_arr, plt \u001b[39m=\u001b[39m fr\u001b[39m.\u001b[39;49mfreq_resp(sys_c, omega, \u001b[39m.1\u001b[39;49m, \u001b[39m18\u001b[39;49m, \u001b[39m18\u001b[39;49m)\n",
      "File \u001b[1;32mc:\\Users\\logan\\Documents\\Repos\\Coasing-Problem\\freq_resp.py:8\u001b[0m, in \u001b[0;36mfreq_resp\u001b[1;34m(sys_ss, omega, tol, fig_dim_1, fig_dim_2)\u001b[0m\n\u001b[0;32m      6\u001b[0m \u001b[39mdef\u001b[39;00m \u001b[39mfreq_resp\u001b[39m(sys_ss: control\u001b[39m.\u001b[39mNonlinearIOSystem \u001b[39m|\u001b[39m control\u001b[39m.\u001b[39mLinearIOSystem, omega: np\u001b[39m.\u001b[39mndarray, tol: \u001b[39mfloat\u001b[39m, fig_dim_1: \u001b[39mint\u001b[39m \u001b[39m=\u001b[39m \u001b[39mNone\u001b[39;00m, fig_dim_2: \u001b[39mint\u001b[39m \u001b[39m=\u001b[39m \u001b[39mNone\u001b[39;00m):\n\u001b[1;32m----> 8\u001b[0m     mag, phase, omega \u001b[39m=\u001b[39m control\u001b[39m.\u001b[39;49mfreqresp(sys_ss, omega)\n\u001b[0;32m      9\u001b[0m     tau_arr \u001b[39m=\u001b[39m np\u001b[39m.\u001b[39mempty([])\n\u001b[0;32m     11\u001b[0m     \u001b[39m# Plot the magnitude and phase response\u001b[39;00m\n\u001b[0;32m     12\u001b[0m     \u001b[39m# TODO: unsafe when providing fig_dim_2 but not fig_dim_1. Make it a tuple? \u001b[39;00m\n",
      "File \u001b[1;32mc:\\Users\\logan\\Documents\\Repos\\Coasing-Problem\\.conda\\lib\\site-packages\\control\\lti.py:474\u001b[0m, in \u001b[0;36mfrequency_response\u001b[1;34m(sys, omega, squeeze)\u001b[0m\n\u001b[0;32m    400\u001b[0m \u001b[39mdef\u001b[39;00m \u001b[39mfrequency_response\u001b[39m(sys, omega, squeeze\u001b[39m=\u001b[39m\u001b[39mNone\u001b[39;00m):\n\u001b[0;32m    401\u001b[0m     \u001b[39m\"\"\"Frequency response of an LTI system at multiple angular frequencies.\u001b[39;00m\n\u001b[0;32m    402\u001b[0m \n\u001b[0;32m    403\u001b[0m \u001b[39m    In general the system may be multiple input, multiple output (MIMO), where\u001b[39;00m\n\u001b[1;32m   (...)\u001b[0m\n\u001b[0;32m    472\u001b[0m \n\u001b[0;32m    473\u001b[0m \u001b[39m    \"\"\"\u001b[39;00m\n\u001b[1;32m--> 474\u001b[0m     \u001b[39mreturn\u001b[39;00m sys\u001b[39m.\u001b[39;49mfrequency_response(omega, squeeze\u001b[39m=\u001b[39msqueeze)\n",
      "\u001b[1;31mAttributeError\u001b[0m: 'ssSystem' object has no attribute 'frequency_response'"
     ]
    }
   ],
   "source": [
    "# time constants for dominant noise sources \n",
    "sys_c = initialize.initialize(init_args)\n",
    "\n",
    "# assume zero control input, and examine state-noise relation\n",
    "A = sys_c.A\n",
    "B = sys_c.G\n",
    "C = sys_c.C \n",
    "D = sys_c.D \n",
    "\n",
    "omega = np.logspace(-2, 2, num=100)\n",
    "mag, phase, omega, tau_arr, plt = fr.freq_resp(sys_c, omega, .1, 18, 18)\n"
   ]
  },
  {
   "cell_type": "code",
   "execution_count": null,
   "metadata": {},
   "outputs": [
    {
     "name": "stdout",
     "output_type": "stream",
     "text": [
      "SymSystem(A=Matrix([\n",
      "[1.0, 0.0028735632183908, 0.000148589599874932,   0],\n",
      "[  0,                1.0,    0.105170918075648,   0],\n",
      "[  0,                  0,     1.10517091807565,   0],\n",
      "[  0,                  0,                    0, 1.0]]), B=Matrix([\n",
      "[0.00014367816091954, 0, 0.1],\n",
      "[                0.1, 0,   0],\n",
      "[                  0, 0,   0],\n",
      "[                  0, 0,   0]]), G=Matrix([\n",
      "[1/10,    0,    0],\n",
      "[   0, 1/10,    0],\n",
      "[   0,    0, 1/10],\n",
      "[   0,    0,    0]]), C=Matrix([\n",
      "[ a*cos(theta), 0, 0, sin(theta)],\n",
      "[-a*sin(theta), 0, 0, cos(theta)]]), D=Matrix([\n",
      "[1, 0, 0],\n",
      "[0, 1, 0]]))\n"
     ]
    }
   ],
   "source": [
    "# discrete form of symbolic system via ZOH  \n",
    "# TODO replace with Van Loan's method\n",
    "B = sys.B\n",
    "A = sys.A\n",
    "A[1,1] = 0 # this value is extremely small \n",
    "dt = Ts**-1\n",
    "nx, nm = sys.B.shape\n",
    "Phik = sympy.exp(A*dt)\n",
    "GamUk = dt*B + ((dt**2)/2)*A*B + ((dt**3)/6)*A*A*B # using approximation since A is not invertible\n",
    "#GWG = sympy.exp(sys.A*1/Ts)*sys.G*W*np.transpose(sys.G)*sympy.exp(sys.A*1/Ts)*1/Ts # only used for exactness \n",
    "GamWk = sys.G*1/Ts # usable for sufficiently small sample times \n",
    "# GamWk_test = sympy.exp(sys.A*1/Ts)*sys.G * 1/Ts # slightly more accurate version? \n",
    "args = [Phik,GamUk,GamWk,sys.C,sys.D]\n",
    "sysd = header.SymSystem(*args)\n",
    "init_args[\"sys\"] = sysd\n",
    "print(sysd)\n"
   ]
  },
  {
   "cell_type": "code",
   "execution_count": null,
   "metadata": {},
   "outputs": [],
   "source": [
    "# we're almost ready to pass this to the kalman filter, but we'll need a trajectory to linearize the system with. \n",
    "# this is a case-by-case tool, so it will require a redo for each situation we wish to face.\n",
    "traj: float = np.matrix(np.zeros((nx,int(st*Ts))))\n",
    "traj[:,0]   = np.transpose(np.matrix(init_args[\"initials\"]))\n",
    "u: float    = np.matrix(np.zeros((nu,int(st*Ts))))\n",
    "rng = np.random.default_rng()\n",
    "f = .5 + rng.standard_normal(int(st*Ts))\n",
    "v_k = 0 + f[0]\n",
    "phi_nom = np.pi/2 # nominal phase value\n",
    "b_nom = 0.001 # nominal bias value \n",
    "a_nom = 1.0\n",
    "v_ts = np.matrix([[phi_nom],[v_k],[b_nom],[a_nom]]) \n",
    "v_nom= sys.A[1,:]*v_ts\n",
    "init_args_hold = init_args\n",
    "for i in range(0,int(st*Ts),1):\n",
    "    u[:,i] = np.matrix([[f[i]],[9.81],[v_d/(v_d+v_s)]])\n",
    "for i in range(1,int(st*Ts),1):\n",
    "    sysd_hold = initialize.initialize(init_args_hold)\n",
    "    traj[:,i] = np.matrix([[phi_nom],[v_nom[0,0]],[b_nom],[a_nom]], dtype=float)\n",
    "    u_nom = u[0,i]\n",
    "    v_nom = sysd_hold.A[1,:]*np.matrix([[phi_nom],[v_nom[0,0]],[b_nom],[a_nom]], dtype=float)+u_nom\n",
    "    if i != int(st*Ts):\n",
    "        initals_hold: float = np.array(traj[:,i])\n",
    "        init_args_hold[\"initials\"] = initals_hold"
   ]
  },
  {
   "cell_type": "code",
   "execution_count": null,
   "metadata": {},
   "outputs": [
    {
     "name": "stdout",
     "output_type": "stream",
     "text": [
      "Matrix([[0, 0, 1, 0]])\n",
      "Matrix([[1, 0, 0]])\n",
      "SymSystem(A=Matrix([\n",
      "[1.0, 0.0028735632183908, 0.000148589599874932,   0],\n",
      "[  0,                1.0,    0.105170918075648,   0],\n",
      "[  0,                  0,     1.10517091807565,   0],\n",
      "[  0,                  0,                    0, 1.0]]), B=Matrix([\n",
      "[0.00014367816091954, 0, 0.1],\n",
      "[                0.1, 0,   0],\n",
      "[                  0, 0,   0],\n",
      "[                  0, 0,   0]]), G=Matrix([\n",
      "[1/10,    0,    0],\n",
      "[   0, 1/10,    0],\n",
      "[   0,    0, 1/10],\n",
      "[   0,    0,    0]]), C=Matrix([\n",
      "[ a*cos(theta), 0, 0, sin(theta)],\n",
      "[-a*sin(theta), 0, 0, cos(theta)]]), D=Matrix([\n",
      "[1, 0, 0],\n",
      "[0, 1, 0]]))\n"
     ]
    }
   ],
   "source": [
    "trajTS = np.array(traj)\n",
    "uTS = np.array(u)\n",
    "print(A[1,:])\n",
    "print(B[1,:])\n",
    "print(sysd)"
   ]
  },
  {
   "cell_type": "code",
   "execution_count": null,
   "metadata": {},
   "outputs": [],
   "source": [
    "# run kalman filter \n",
    "x, P, Pbar, K_list, H_list, Phi_list = kf.KalmanFilter(sysd, init_args, traj, stats, Ts, st, u,\"S\")"
   ]
  },
  {
   "cell_type": "code",
   "execution_count": null,
   "metadata": {},
   "outputs": [],
   "source": [
    "n = nx\n",
    "m = dH.shape[0]\n",
    "exc = np.matrix([[1],[1],[1]])\n",
    "for i in range(1,int(st*Ts)-1,1):\n",
    "    Pp = Pbar[:,i*n:(i+1)*n]\n",
    "    H = H_list[:,i*n:(i+1)*n]\n",
    "    K = K_list[:,i*m:(i+1)*m]\n",
    "    A = Phi_list[:,i*n:(i+1)*n]\n",
    "    exc = (np.eye(nx,nx)-K*H)*A"
   ]
  },
  {
   "cell_type": "code",
   "execution_count": null,
   "metadata": {},
   "outputs": [],
   "source": [
    "zk = np.array(pd.read_csv('zk.csv'))\n",
    "zk = zk[:,1:-1]\n",
    "x = np.array(x)\n",
    "P_tmp = np.array(P)\n",
    "u_tmp = np.array(u)"
   ]
  },
  {
   "cell_type": "code",
   "execution_count": null,
   "metadata": {},
   "outputs": [
    {
     "data": {
      "image/png": "[encoded data removed]",
      "text/plain": [
       "<Figure size 640x480 with 3 Axes>"
      ]
     },
     "metadata": {},
     "output_type": "display_data"
    }
   ],
   "source": [
    "fig, ax = plt.subplots(3)\n",
    "P_theta = P[0,:]\n",
    "P_theta = P_theta[0,::nx]\n",
    "sig_theta = np.sqrt(P_theta)\n",
    "xplt = x[0,0:20]\n",
    "a = x[3,0:20]\n",
    "k = range(0,xplt.size,1)\n",
    "\n",
    "ax[0].plot(k,a*np.sin(xplt))\n",
    "ax[1].plot(k,np.transpose(P_theta[0,0:20]))\n",
    "ax[2].plot(k,zk[0,0:20])\n",
    "\n",
    "plt.show()"
   ]
  },
  {
   "attachments": {},
   "cell_type": "markdown",
   "metadata": {},
   "source": [
    "#### Reconstruct the Signal \n",
    "\n",
    "The results of the correlations here are \n",
    "> $sI = \\sqrt{C}x(t-T)cos(2\\pi \\Delta f_d t + \\Delta \\theta)$\n",
    "\n",
    "> $sQ = \\sqrt{C}x(t-T)sin(2\\pi \\Delta f_d t + \\Delta \\theta)$\n",
    "\n",
    "where \n",
    "\n",
    "> $\\Delta f_d = f_d - \\hat{f}_d$\n",
    "\n",
    "> $\\Delta \\theta = \\theta_0 - \\hat{\\theta}$ \n",
    "\n",
    "Here, $f_d$ is the real signal's doppler frequency, $\\hat{f}_d$ is our best estimate of the real signal doppler frequency, $\\theta_0$ is the real signal's original phase offset, and $\\hat{\\theta}$ is our best estimate of the real signal's original phase offset. $C$ is the real signal's power and $x(t-T)$ is the spreading code with its repective time delay. "
   ]
  },
  {
   "cell_type": "code",
   "execution_count": null,
   "metadata": {},
   "outputs": [],
   "source": [
    "# reconstruct original signal \n",
    "\n",
    "# the phase and user velocity, combined with knowledge of the doppler equation, are sufficent to recover our signal. \n",
    "a = 1 \n",
    "sI = a*np.cos(xplt) \n",
    "sQ = a*np.sin(xplt)\n",
    "srms = np.mean(sI**2 + sQ**2) # signal power metric"
   ]
  },
  {
   "attachments": {},
   "cell_type": "markdown",
   "metadata": {},
   "source": [
    "#### More faithful reconstruction of the signal \n",
    "\n",
    "Here, I will try to make a model which directly incorporates RF measurements with NO accumulation.\n",
    "\n",
    "The raw data is represented as: \n",
    "> $y = A(t) C(t - \\tau) sin(2 \\pi f_d + \\phi) + \\eta$\n",
    "\n",
    "This will need to be linearized in A, $\\tau$, $f_d$ and $\\phi$.\n",
    "\n",
    ">$y \\approx y(A^*,\\tau^*, f^*_d, \\phi^*) + \\begin{pmatrix} \\frac{dy}{dA} & \\frac{dy}{d\\tau} & \\frac{dy}{df_d} & \\frac{dy}{d\\phi} \\end{pmatrix}|_{x = x^*} (x-x^*) + \\eta$\n",
    "\n",
    "where \n",
    "\n",
    "> $x = \\begin{pmatrix}  A & \\tau &  f_d & \\phi \\end{pmatrix}^T$\n",
    "\n",
    "> $x^* = \\begin{pmatrix}  A^* & \\tau^* &  f^*_d & \\phi^* \\end{pmatrix}^T$\n",
    "\n",
    "C is not differentiable in $\\tau$, so some derivative approximation will need to be constructed. We will try to accomplish this with an IMM method."
   ]
  }
 ],
 "metadata": {
  "kernelspec": {
   "display_name": "Python 3",
   "language": "python",
   "name": "python3"
  },
  "language_info": {
   "codemirror_mode": {
    "name": "ipython",
    "version": 3
   },
   "file_extension": ".py",
   "mimetype": "text/x-python",
   "name": "python",
   "nbconvert_exporter": "python",
   "pygments_lexer": "ipython3",
   "version": "3.10.11"
  },
  "orig_nbformat": 4,
  "vscode": {
   "interpreter": {
    "hash": "a9a064560be0c0363b871e838f2a024878e70347159407046b86173851f81678"
   }
  }
 },
 "nbformat": 4,
 "nbformat_minor": 2
}
